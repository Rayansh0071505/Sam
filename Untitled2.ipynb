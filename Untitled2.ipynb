{
  "nbformat": 4,
  "nbformat_minor": 0,
  "metadata": {
    "colab": {
      "name": "Untitled2.ipynb",
      "provenance": []
    },
    "kernelspec": {
      "name": "python3",
      "display_name": "Python 3"
    },
    "language_info": {
      "name": "python"
    }
  },
  "cells": [
    {
      "cell_type": "code",
      "execution_count": null,
      "metadata": {
        "id": "3bErvj2ibX8L"
      },
      "outputs": [],
      "source": [
        "import numpy as np\n",
        "import nltk\n",
        "import string \n",
        "import random\n"
      ]
    },
    {
      "cell_type": "code",
      "source": [
        "f=open('/chatbot.txt','r',errors='ignore')\n",
        "raw_doc=f.read()\n",
        "raw_doc=raw_doc.lower()\n",
        "nltk.download('punkt')\n",
        "nltk.download('wordnet')\n",
        "sent_tokens=nltk.sent_tokenize(raw_doc)\n",
        "word_tokens=nltk.word_tokenize(raw_doc)"
      ],
      "metadata": {
        "colab": {
          "base_uri": "https://localhost:8080/"
        },
        "id": "8JflOXuEbiBL",
        "outputId": "4d8ab3f8-7676-4d63-928e-19e19b36734e"
      },
      "execution_count": null,
      "outputs": [
        {
          "output_type": "stream",
          "name": "stdout",
          "text": [
            "[nltk_data] Downloading package punkt to /root/nltk_data...\n",
            "[nltk_data]   Unzipping tokenizers/punkt.zip.\n",
            "[nltk_data] Downloading package wordnet to /root/nltk_data...\n",
            "[nltk_data]   Unzipping corpora/wordnet.zip.\n"
          ]
        }
      ]
    },
    {
      "cell_type": "code",
      "source": [
        "sent_tokens[:5]"
      ],
      "metadata": {
        "colab": {
          "base_uri": "https://localhost:8080/"
        },
        "id": "oDrGsg9fbzl5",
        "outputId": "9d19253a-95d4-43c1-ac28-6d0304ac7124"
      },
      "execution_count": null,
      "outputs": [
        {
          "output_type": "execute_result",
          "data": {
            "text/plain": [
              "['the rpwd act, 2016 was enacted on 28.12.2016 which came into force from 19.04.2017. the salient features of the act are:-\\n\\nresponsibility has been cast upon the appropriate governments to take effective measures to ensure that the persons with disabilities enjoy their rights equally with others.',\n",
              " 'disability has been defined based on an evolving and dynamic concept.',\n",
              " 'the act covers the following specified disabilities:-\\nphysical disability\\nlocomotor disability\\nleprosy cured person\\ncerebral palsy\\ndwarfism\\nmuscular dystrophy\\nacid attack victims\\nvisual impairment\\nblindness\\nlow vission\\nhearing impairment\\ndeaf\\nhard of hearing\\nspeech and language disability\\nintellectual disability\\n specific learning disabilities\\nautism spectrum disorder\\nmental behaviour (mental illness)\\ndisability caused due to-\\nchronic neurological conditions such as-\\nmultiple sclerosis\\nparkinson’s disease\\n blood disorder-\\nhaemophilia\\nthalassemia\\nsickle cell disease\\nmultiple disabilities\\nadditional benefits have been provided for persons with benchmark disabilities and those with high support needs.',\n",
              " 'every child with benchmark disability between the age group of 6 and 18 years shall have the right to free education.',\n",
              " '5% reservation in seats in government and government aided higher educational institutions for persons with benchmark disabilities.']"
            ]
          },
          "metadata": {},
          "execution_count": 3
        }
      ]
    },
    {
      "cell_type": "code",
      "source": [
        "lemmer = nltk.stem.WordNetLemmatizer()\n",
        "def LemTokens(tokens):\n",
        "  return[lemmer.lemmatize(token) for token in tokens]\n",
        "remove_punc_dict=dict((ord(punct), None) for punct in string.punctuation)\n",
        "def LemNormalize(text):\n",
        "  return LemTokens(nltk.word_tokenize(text.lower().translate(remove_punc_dict)))"
      ],
      "metadata": {
        "id": "bKsxWPKdb2Pd"
      },
      "execution_count": null,
      "outputs": []
    },
    {
      "cell_type": "code",
      "source": [
        "GREET_INPUTS=(\"hello\",\"hey\")\n",
        "GREET_RESPONSE=[\"My name is sam Welcome to vakeelsearch\"]\n",
        "def greet(sentence):\n",
        "  for word in sentence.split():\n",
        "    if word.lower() in GREET_INPUTS:\n",
        "      return random.choice(GREET_RESPONSE)"
      ],
      "metadata": {
        "id": "HX8hueO-b4_F"
      },
      "execution_count": null,
      "outputs": []
    },
    {
      "cell_type": "code",
      "source": [
        "from sklearn.feature_extraction.text import TfidfVectorizer\n",
        "from sklearn.metrics.pairwise import cosine_similarity"
      ],
      "metadata": {
        "id": "X3on4aV6b-fb"
      },
      "execution_count": null,
      "outputs": []
    },
    {
      "cell_type": "code",
      "source": [
        "def response(user_response):\n",
        "  robo1_response=''\n",
        "  TfidfVec = TfidfVectorizer(tokenizer=LemNormalize,stop_words='english')\n",
        "  tfidf = TfidfVec.fit_transform(sent_tokens)\n",
        "  vals = cosine_similarity(tfidf[-1],tfidf)\n",
        "  idx=vals.argsort()[0][-2]\n",
        "  flat= vals.flatten()\n",
        "  flat.sort()\n",
        "  req_tfidf=flat[-2]\n",
        "  if(req_tfidf==0):\n",
        "    robo1_response=robo1_response+\"I am sorry\"\n",
        "    return robo1_response\n",
        "  else:\n",
        "     robo1_response=robo1_response+sent_tokens[idx]     \n",
        "     return robo1_response"
      ],
      "metadata": {
        "id": "Wpb4Fno8cBLK"
      },
      "execution_count": null,
      "outputs": []
    },
    {
      "cell_type": "code",
      "source": [
        "flag=True\n",
        "print(\"Sam: My name is Sam, lets have convo and of you want to exit just type exit\")\n",
        "while(flag==True):\n",
        "  user_response=input()\n",
        "  user_response=user_response.lower()\n",
        "  if(user_response!='exit'):\n",
        "    if(user_response=='thanks'):\n",
        "      flag=False\n",
        "      print(\"BOT: You are welcome\")\n",
        "    else:\n",
        "      if(greet(user_response)!=None):\n",
        "        print(\"BOT: \"+greet(user_response))\n",
        "      else:\n",
        "        sent_tokens.append(user_response)\n",
        "        word_tokens=word_tokens+nltk.word_tokenize(user_response)\n",
        "        final_words=list(set(word_tokens))\n",
        "        print(\"BOT: \",end=\"\")\n",
        "        print(response(user_response))\n",
        "        sent_tokens.remove(user_response)\n",
        "  else:\n",
        "    flag=False\n",
        "    print(\"Sam: Goodbye!\")"
      ],
      "metadata": {
        "colab": {
          "base_uri": "https://localhost:8080/"
        },
        "id": "ZlvOlKsYcDHE",
        "outputId": "35e49485-9156-441d-d4b7-5e940ba7f84c"
      },
      "execution_count": null,
      "outputs": [
        {
          "metadata": {
            "tags": null
          },
          "name": "stdout",
          "output_type": "stream",
          "text": [
            "Sam: My name is Sam, lets have convo and of you want to exit just type exit\n"
          ]
        },
        {
          "metadata": {
            "tags": null
          },
          "name": "stderr",
          "output_type": "stream",
          "text": [
            "/usr/local/lib/python3.7/dist-packages/sklearn/feature_extraction/text.py:401: UserWarning: Your stop_words may be inconsistent with your preprocessing. Tokenizing the stop words generated tokens ['ha', 'le', 'u', 'wa'] not in stop_words.\n",
            "  % sorted(inconsistent)\n"
          ]
        },
        {
          "name": "stdout",
          "output_type": "stream",
          "text": [
            "BOT: designated special courts to handle cases concerning violation of rights of pwds.\n",
            "exit\n",
            "Sam: Goodbye!\n",
            "Sam: Goodbye!\n",
            "exit\n"
          ]
        }
      ]
    },
    {
      "cell_type": "code",
      "source": [
        "right"
      ],
      "metadata": {
        "id": "5BCoAdsucFcz"
      },
      "execution_count": null,
      "outputs": []
    }
  ]
}